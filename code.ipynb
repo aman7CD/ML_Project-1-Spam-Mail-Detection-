{
 "cells": [
  {
   "cell_type": "code",
   "execution_count": 1,
   "id": "c97b9f5d",
   "metadata": {
    "_cell_guid": "b1076dfc-b9ad-4769-8c92-a6c4dae69d19",
    "_uuid": "8f2839f25d086af736a60e9eeb907d3b93b6e0e5",
    "execution": {
     "iopub.execute_input": "2023-02-24T08:20:20.152132Z",
     "iopub.status.busy": "2023-02-24T08:20:20.151378Z",
     "iopub.status.idle": "2023-02-24T08:20:20.168782Z",
     "shell.execute_reply": "2023-02-24T08:20:20.169307Z",
     "shell.execute_reply.started": "2023-02-24T08:18:59.943785Z"
    },
    "papermill": {
     "duration": 0.034368,
     "end_time": "2023-02-24T08:20:20.169615",
     "exception": false,
     "start_time": "2023-02-24T08:20:20.135247",
     "status": "completed"
    },
    "tags": []
   },
   "outputs": [
    {
     "name": "stdout",
     "output_type": "stream",
     "text": [
      "/kaggle/input/spam-mail-detection-dataset/spam_mail_data.csv\n"
     ]
    }
   ],
   "source": [
    "# This Python 3 environment comes with many helpful analytics libraries installed\n",
    "# It is defined by the kaggle/python Docker image: https://github.com/kaggle/docker-python\n",
    "# For example, here's several helpful packages to load\n",
    "\n",
    "import numpy as np # linear algebra\n",
    "import pandas as pd # data processing, CSV file I/O (e.g. pd.read_csv)\n",
    "\n",
    "# Input data files are available in the read-only \"../input/\" directory\n",
    "# For example, running this (by clicking run or pressing Shift+Enter) will list all files under the input directory\n",
    "\n",
    "import os\n",
    "for dirname, _, filenames in os.walk('/kaggle/input'):\n",
    "    for filename in filenames:\n",
    "        print(os.path.join(dirname, filename))\n",
    "\n",
    "# You can write up to 20GB to the current directory (/kaggle/working/) that gets preserved as output when you create a version using \"Save & Run All\" \n",
    "# You can also write temporary files to /kaggle/temp/, but they won't be saved outside of the current session"
   ]
  },
  {
   "cell_type": "code",
   "execution_count": 2,
   "id": "078d4626",
   "metadata": {
    "execution": {
     "iopub.execute_input": "2023-02-24T08:20:20.190521Z",
     "iopub.status.busy": "2023-02-24T08:20:20.183036Z",
     "iopub.status.idle": "2023-02-24T08:20:22.782157Z",
     "shell.execute_reply": "2023-02-24T08:20:22.782897Z",
     "shell.execute_reply.started": "2023-02-24T08:19:00.065767Z"
    },
    "papermill": {
     "duration": 2.607632,
     "end_time": "2023-02-24T08:20:22.783117",
     "exception": false,
     "start_time": "2023-02-24T08:20:20.175485",
     "status": "completed"
    },
    "tags": []
   },
   "outputs": [
    {
     "name": "stderr",
     "output_type": "stream",
     "text": [
      "/opt/conda/lib/python3.7/site-packages/xgboost/sklearn.py:1224: UserWarning: The use of label encoder in XGBClassifier is deprecated and will be removed in a future release. To remove this warning, do the following: 1) Pass option use_label_encoder=False when constructing XGBClassifier object; and 2) Encode your labels (y) as integers starting with 0, i.e. 0, 1, 2, ..., [num_class - 1].\n",
      "  warnings.warn(label_encoder_deprecation_msg, UserWarning)\n"
     ]
    },
    {
     "name": "stdout",
     "output_type": "stream",
     "text": [
      "[08:20:21] WARNING: ../src/learner.cc:1115: Starting in XGBoost 1.3.0, the default evaluation metric used with the objective 'binary:logistic' was changed from 'error' to 'logloss'. Explicitly set eval_metric if you'd like to restore the old behavior.\n",
      "The accuracy score of XGBClassifier is 0.974910394265233\n",
      "The accuracy score of logistic regression model is 0.9605734767025089\n"
     ]
    }
   ],
   "source": [
    "## Importing the Dependecies \n",
    "import numpy as np\n",
    "\n",
    "import pandas as pd\n",
    "\n",
    "from sklearn.model_selection import train_test_split\n",
    "\n",
    "from xgboost import XGBClassifier\n",
    "from sklearn.linear_model import LogisticRegression\n",
    "\n",
    "from sklearn.metrics import accuracy_score\n",
    "\n",
    "from sklearn.feature_extraction.text import TfidfVectorizer\n",
    "\n",
    "\n",
    "\n",
    "## Data Colection and Preprocessing\n",
    "data = pd.read_csv(\"/kaggle/input/spam-mail-detection-dataset/spam_mail_data.csv\")\n",
    "\n",
    "data.isnull().sum()\n",
    "\n",
    "data.replace(to_replace=[\"ham\",\"spam\"], value=[0,1], inplace=True)\n",
    "\n",
    "x = data.drop([\"Category\"],axis=1)\n",
    "\n",
    "x = x.to_numpy()\n",
    "\n",
    "y = data[\"Category\"]\n",
    "\n",
    "x = x.reshape(-1)\n",
    "\n",
    "\n",
    "\n",
    "## Converting data from text to numerical\n",
    "vt = TfidfVectorizer(stop_words='english', min_df=1)\n",
    "x = vt.fit_transform(x)\n",
    "\n",
    "\n",
    "\n",
    "## Splitting the Data\n",
    "xtn,xtt,ytn,ytt = train_test_split(x,y, test_size=0.05, random_state=1 )\n",
    "\n",
    "## Training The Model\n",
    "model1 = XGBClassifier()\n",
    "model2 = LogisticRegression()\n",
    "\n",
    "model1.fit(xtn,ytn)\n",
    "model2.fit(xtn,ytn)\n",
    "\n",
    "\n",
    "\n",
    "## Model Evaluation Through MSE\n",
    "y_pred1 = model1.predict(xtt)\n",
    "y_pred2 = model2.predict(xtt)\n",
    "\n",
    "acc_score1 = accuracy_score(ytt,y_pred1)\n",
    "acc_score2 = accuracy_score(ytt,y_pred2)\n",
    "\n",
    "\n",
    "print(f\"The accuracy score of XGBClassifier is {acc_score1}\")\n",
    "print(f\"The accuracy score of logistic regression model is {acc_score2}\")"
   ]
  },
  {
   "cell_type": "code",
   "execution_count": null,
   "id": "4a50ba04",
   "metadata": {
    "papermill": {
     "duration": 0.006004,
     "end_time": "2023-02-24T08:20:22.796208",
     "exception": false,
     "start_time": "2023-02-24T08:20:22.790204",
     "status": "completed"
    },
    "tags": []
   },
   "outputs": [],
   "source": []
  }
 ],
 "metadata": {
  "kernelspec": {
   "display_name": "Python 3",
   "language": "python",
   "name": "python3"
  },
  "language_info": {
   "codemirror_mode": {
    "name": "ipython",
    "version": 3
   },
   "file_extension": ".py",
   "mimetype": "text/x-python",
   "name": "python",
   "nbconvert_exporter": "python",
   "pygments_lexer": "ipython3",
   "version": "3.7.12"
  },
  "papermill": {
   "default_parameters": {},
   "duration": 13.400998,
   "end_time": "2023-02-24T08:20:23.614284",
   "environment_variables": {},
   "exception": null,
   "input_path": "__notebook__.ipynb",
   "output_path": "__notebook__.ipynb",
   "parameters": {},
   "start_time": "2023-02-24T08:20:10.213286",
   "version": "2.3.3"
  }
 },
 "nbformat": 4,
 "nbformat_minor": 5
}
